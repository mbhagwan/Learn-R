{
 "cells": [
  {
   "cell_type": "markdown",
   "id": "efc85bbb",
   "metadata": {},
   "source": [
    "# Modifying Data Frames in R"
   ]
  },
  {
   "cell_type": "markdown",
   "id": "6fb83d53",
   "metadata": {
    "toc": true
   },
   "source": [
    "<h1>Contents<span class=\"tocSkip\"></span></h1>\n",
    "<div class=\"toc\"><ul class=\"toc-item\"><li><span><a href=\"#Introduction\" data-toc-modified-id=\"Introduction-1\">Introduction</a></span></li><li><span><a href=\"#Adding-a-Column\" data-toc-modified-id=\"Adding-a-Column-2\">Adding a Column</a></span></li><li><span><a href=\"#Adding-Multiple-Columns\" data-toc-modified-id=\"Adding-Multiple-Columns-3\">Adding Multiple Columns</a></span></li><li><span><a href=\"#Transmute-Columns\" data-toc-modified-id=\"Transmute-Columns-4\">Transmute Columns</a></span></li><li><span><a href=\"#Rename-Columns\" data-toc-modified-id=\"Rename-Columns-5\">Rename Columns</a></span></li></ul></div>"
   ]
  },
  {
   "cell_type": "markdown",
   "id": "64b1d280",
   "metadata": {},
   "source": [
    "### Introduction"
   ]
  },
  {
   "cell_type": "markdown",
   "id": "a89468fc",
   "metadata": {},
   "source": [
    "The `dplyr` package can be used to perform data frame modifications.\n",
    "\n",
    "Data from the [American Kennel Club (AKC](https://www.akc.org/) is loaded into a data frame."
   ]
  },
  {
   "cell_type": "code",
   "execution_count": 33,
   "id": "54449883",
   "metadata": {},
   "outputs": [],
   "source": [
    "# load libraries\n",
    "\n",
    "library(readr)\n",
    "library(dplyr)"
   ]
  },
  {
   "cell_type": "code",
   "execution_count": 34,
   "id": "02cb9581",
   "metadata": {
    "scrolled": true
   },
   "outputs": [
    {
     "name": "stderr",
     "output_type": "stream",
     "text": [
      "\n",
      "\u001b[36m──\u001b[39m \u001b[1m\u001b[1mColumn specification\u001b[1m\u001b[22m \u001b[36m────────────────────────────────────────────────────────\u001b[39m\n",
      "cols(\n",
      "  Breed = \u001b[31mcol_character()\u001b[39m,\n",
      "  height_low_inches = \u001b[32mcol_double()\u001b[39m,\n",
      "  height_high_inches = \u001b[32mcol_double()\u001b[39m,\n",
      "  weight_low_lbs = \u001b[32mcol_double()\u001b[39m,\n",
      "  weight_high_lbs = \u001b[32mcol_double()\u001b[39m,\n",
      "  `2016 Rank` = \u001b[32mcol_double()\u001b[39m,\n",
      "  `2015 Rank` = \u001b[32mcol_double()\u001b[39m,\n",
      "  `2014 Rank` = \u001b[32mcol_double()\u001b[39m,\n",
      "  `2013 Rank` = \u001b[32mcol_double()\u001b[39m\n",
      ")\n",
      "\n",
      "\n"
     ]
    }
   ],
   "source": [
    "dogs <- read_csv('/users/bm/downloads/csv_files/dogs.csv')"
   ]
  },
  {
   "cell_type": "code",
   "execution_count": 35,
   "id": "38bd84df",
   "metadata": {},
   "outputs": [
    {
     "data": {
      "text/html": [
       "<table class=\"dataframe\">\n",
       "<caption>A tibble: 6 × 9</caption>\n",
       "<thead>\n",
       "\t<tr><th scope=col>Breed</th><th scope=col>height_low_inches</th><th scope=col>height_high_inches</th><th scope=col>weight_low_lbs</th><th scope=col>weight_high_lbs</th><th scope=col>2016 Rank</th><th scope=col>2015 Rank</th><th scope=col>2014 Rank</th><th scope=col>2013 Rank</th></tr>\n",
       "\t<tr><th scope=col>&lt;chr&gt;</th><th scope=col>&lt;dbl&gt;</th><th scope=col>&lt;dbl&gt;</th><th scope=col>&lt;dbl&gt;</th><th scope=col>&lt;dbl&gt;</th><th scope=col>&lt;dbl&gt;</th><th scope=col>&lt;dbl&gt;</th><th scope=col>&lt;dbl&gt;</th><th scope=col>&lt;dbl&gt;</th></tr>\n",
       "</thead>\n",
       "<tbody>\n",
       "\t<tr><td>Affenpinscher    </td><td> 9</td><td>12</td><td> 8</td><td> 12</td><td>149</td><td>136</td><td>144</td><td>143</td></tr>\n",
       "\t<tr><td>Afghan Hound     </td><td>25</td><td>27</td><td>50</td><td> 60</td><td>113</td><td>100</td><td> 98</td><td> 95</td></tr>\n",
       "\t<tr><td>Airdale Terrier  </td><td>22</td><td>24</td><td>45</td><td> 45</td><td> 55</td><td> 53</td><td> 57</td><td> 56</td></tr>\n",
       "\t<tr><td>Akita            </td><td>26</td><td>28</td><td>80</td><td>120</td><td> 46</td><td> 46</td><td> 46</td><td> 45</td></tr>\n",
       "\t<tr><td>American Eskimo  </td><td> 9</td><td>19</td><td>25</td><td> 30</td><td>122</td><td>118</td><td>120</td><td>110</td></tr>\n",
       "\t<tr><td>American Foxhound</td><td>22</td><td>25</td><td>65</td><td> 70</td><td>189</td><td>181</td><td>180</td><td>176</td></tr>\n",
       "</tbody>\n",
       "</table>\n"
      ],
      "text/latex": [
       "A tibble: 6 × 9\n",
       "\\begin{tabular}{lllllllll}\n",
       " Breed & height\\_low\\_inches & height\\_high\\_inches & weight\\_low\\_lbs & weight\\_high\\_lbs & 2016 Rank & 2015 Rank & 2014 Rank & 2013 Rank\\\\\n",
       " <chr> & <dbl> & <dbl> & <dbl> & <dbl> & <dbl> & <dbl> & <dbl> & <dbl>\\\\\n",
       "\\hline\n",
       "\t Affenpinscher     &  9 & 12 &  8 &  12 & 149 & 136 & 144 & 143\\\\\n",
       "\t Afghan Hound      & 25 & 27 & 50 &  60 & 113 & 100 &  98 &  95\\\\\n",
       "\t Airdale Terrier   & 22 & 24 & 45 &  45 &  55 &  53 &  57 &  56\\\\\n",
       "\t Akita             & 26 & 28 & 80 & 120 &  46 &  46 &  46 &  45\\\\\n",
       "\t American Eskimo   &  9 & 19 & 25 &  30 & 122 & 118 & 120 & 110\\\\\n",
       "\t American Foxhound & 22 & 25 & 65 &  70 & 189 & 181 & 180 & 176\\\\\n",
       "\\end{tabular}\n"
      ],
      "text/markdown": [
       "\n",
       "A tibble: 6 × 9\n",
       "\n",
       "| Breed &lt;chr&gt; | height_low_inches &lt;dbl&gt; | height_high_inches &lt;dbl&gt; | weight_low_lbs &lt;dbl&gt; | weight_high_lbs &lt;dbl&gt; | 2016 Rank &lt;dbl&gt; | 2015 Rank &lt;dbl&gt; | 2014 Rank &lt;dbl&gt; | 2013 Rank &lt;dbl&gt; |\n",
       "|---|---|---|---|---|---|---|---|---|\n",
       "| Affenpinscher     |  9 | 12 |  8 |  12 | 149 | 136 | 144 | 143 |\n",
       "| Afghan Hound      | 25 | 27 | 50 |  60 | 113 | 100 |  98 |  95 |\n",
       "| Airdale Terrier   | 22 | 24 | 45 |  45 |  55 |  53 |  57 |  56 |\n",
       "| Akita             | 26 | 28 | 80 | 120 |  46 |  46 |  46 |  45 |\n",
       "| American Eskimo   |  9 | 19 | 25 |  30 | 122 | 118 | 120 | 110 |\n",
       "| American Foxhound | 22 | 25 | 65 |  70 | 189 | 181 | 180 | 176 |\n",
       "\n"
      ],
      "text/plain": [
       "  Breed             height_low_inches height_high_inches weight_low_lbs\n",
       "1 Affenpinscher      9                12                  8            \n",
       "2 Afghan Hound      25                27                 50            \n",
       "3 Airdale Terrier   22                24                 45            \n",
       "4 Akita             26                28                 80            \n",
       "5 American Eskimo    9                19                 25            \n",
       "6 American Foxhound 22                25                 65            \n",
       "  weight_high_lbs 2016 Rank 2015 Rank 2014 Rank 2013 Rank\n",
       "1  12             149       136       144       143      \n",
       "2  60             113       100        98        95      \n",
       "3  45              55        53        57        56      \n",
       "4 120              46        46        46        45      \n",
       "5  30             122       118       120       110      \n",
       "6  70             189       181       180       176      "
      ]
     },
     "metadata": {},
     "output_type": "display_data"
    }
   ],
   "source": [
    "# inspect data frame\n",
    "\n",
    "head(dogs)"
   ]
  },
  {
   "cell_type": "code",
   "execution_count": 36,
   "id": "f2ed0371",
   "metadata": {},
   "outputs": [
    {
     "data": {
      "text/html": [
       "<style>\n",
       ".list-inline {list-style: none; margin:0; padding: 0}\n",
       ".list-inline>li {display: inline-block}\n",
       ".list-inline>li:not(:last-child)::after {content: \"\\00b7\"; padding: 0 .5ex}\n",
       "</style>\n",
       "<ol class=list-inline><li>'Breed'</li><li>'height_low_inches'</li><li>'height_high_inches'</li><li>'weight_low_lbs'</li><li>'weight_high_lbs'</li><li>'rank_2016'</li><li>'rank_2015'</li><li>'rank_2014'</li><li>'rank_2013'</li></ol>\n"
      ],
      "text/latex": [
       "\\begin{enumerate*}\n",
       "\\item 'Breed'\n",
       "\\item 'height\\_low\\_inches'\n",
       "\\item 'height\\_high\\_inches'\n",
       "\\item 'weight\\_low\\_lbs'\n",
       "\\item 'weight\\_high\\_lbs'\n",
       "\\item 'rank\\_2016'\n",
       "\\item 'rank\\_2015'\n",
       "\\item 'rank\\_2014'\n",
       "\\item 'rank\\_2013'\n",
       "\\end{enumerate*}\n"
      ],
      "text/markdown": [
       "1. 'Breed'\n",
       "2. 'height_low_inches'\n",
       "3. 'height_high_inches'\n",
       "4. 'weight_low_lbs'\n",
       "5. 'weight_high_lbs'\n",
       "6. 'rank_2016'\n",
       "7. 'rank_2015'\n",
       "8. 'rank_2014'\n",
       "9. 'rank_2013'\n",
       "\n",
       "\n"
      ],
      "text/plain": [
       "[1] \"Breed\"              \"height_low_inches\"  \"height_high_inches\"\n",
       "[4] \"weight_low_lbs\"     \"weight_high_lbs\"    \"rank_2016\"         \n",
       "[7] \"rank_2015\"          \"rank_2014\"          \"rank_2013\"         "
      ]
     },
     "metadata": {},
     "output_type": "display_data"
    }
   ],
   "source": [
    "# rename columns\n",
    "\n",
    "dogs <- dogs %>% rename(rank_2016 = '2016 Rank',\n",
    "                        rank_2015 = '2015 Rank', \n",
    "                        rank_2014 = '2014 Rank', \n",
    "                        rank_2013 = '2013 Rank')\n",
    "\n",
    "# list column names\n",
    "\n",
    "colnames(dogs)"
   ]
  },
  {
   "cell_type": "markdown",
   "id": "21a7b746",
   "metadata": {},
   "source": [
    "### Adding a Column"
   ]
  },
  {
   "cell_type": "markdown",
   "id": "dda0fd8e",
   "metadata": {},
   "source": [
    "Add a new column to `dogs` named `avg_height` that is the average of `height_low_inches` and `height_high_inches`. Save this new data frame to `dogs`."
   ]
  },
  {
   "cell_type": "code",
   "execution_count": 37,
   "id": "535c86a5",
   "metadata": {},
   "outputs": [
    {
     "data": {
      "text/html": [
       "<table class=\"dataframe\">\n",
       "<caption>A tibble: 6 × 10</caption>\n",
       "<thead>\n",
       "\t<tr><th scope=col>Breed</th><th scope=col>height_low_inches</th><th scope=col>height_high_inches</th><th scope=col>weight_low_lbs</th><th scope=col>weight_high_lbs</th><th scope=col>rank_2016</th><th scope=col>rank_2015</th><th scope=col>rank_2014</th><th scope=col>rank_2013</th><th scope=col>avg_height</th></tr>\n",
       "\t<tr><th scope=col>&lt;chr&gt;</th><th scope=col>&lt;dbl&gt;</th><th scope=col>&lt;dbl&gt;</th><th scope=col>&lt;dbl&gt;</th><th scope=col>&lt;dbl&gt;</th><th scope=col>&lt;dbl&gt;</th><th scope=col>&lt;dbl&gt;</th><th scope=col>&lt;dbl&gt;</th><th scope=col>&lt;dbl&gt;</th><th scope=col>&lt;dbl&gt;</th></tr>\n",
       "</thead>\n",
       "<tbody>\n",
       "\t<tr><td>Affenpinscher    </td><td> 9</td><td>12</td><td> 8</td><td> 12</td><td>149</td><td>136</td><td>144</td><td>143</td><td>10.5</td></tr>\n",
       "\t<tr><td>Afghan Hound     </td><td>25</td><td>27</td><td>50</td><td> 60</td><td>113</td><td>100</td><td> 98</td><td> 95</td><td>26.0</td></tr>\n",
       "\t<tr><td>Airdale Terrier  </td><td>22</td><td>24</td><td>45</td><td> 45</td><td> 55</td><td> 53</td><td> 57</td><td> 56</td><td>23.0</td></tr>\n",
       "\t<tr><td>Akita            </td><td>26</td><td>28</td><td>80</td><td>120</td><td> 46</td><td> 46</td><td> 46</td><td> 45</td><td>27.0</td></tr>\n",
       "\t<tr><td>American Eskimo  </td><td> 9</td><td>19</td><td>25</td><td> 30</td><td>122</td><td>118</td><td>120</td><td>110</td><td>14.0</td></tr>\n",
       "\t<tr><td>American Foxhound</td><td>22</td><td>25</td><td>65</td><td> 70</td><td>189</td><td>181</td><td>180</td><td>176</td><td>23.5</td></tr>\n",
       "</tbody>\n",
       "</table>\n"
      ],
      "text/latex": [
       "A tibble: 6 × 10\n",
       "\\begin{tabular}{llllllllll}\n",
       " Breed & height\\_low\\_inches & height\\_high\\_inches & weight\\_low\\_lbs & weight\\_high\\_lbs & rank\\_2016 & rank\\_2015 & rank\\_2014 & rank\\_2013 & avg\\_height\\\\\n",
       " <chr> & <dbl> & <dbl> & <dbl> & <dbl> & <dbl> & <dbl> & <dbl> & <dbl> & <dbl>\\\\\n",
       "\\hline\n",
       "\t Affenpinscher     &  9 & 12 &  8 &  12 & 149 & 136 & 144 & 143 & 10.5\\\\\n",
       "\t Afghan Hound      & 25 & 27 & 50 &  60 & 113 & 100 &  98 &  95 & 26.0\\\\\n",
       "\t Airdale Terrier   & 22 & 24 & 45 &  45 &  55 &  53 &  57 &  56 & 23.0\\\\\n",
       "\t Akita             & 26 & 28 & 80 & 120 &  46 &  46 &  46 &  45 & 27.0\\\\\n",
       "\t American Eskimo   &  9 & 19 & 25 &  30 & 122 & 118 & 120 & 110 & 14.0\\\\\n",
       "\t American Foxhound & 22 & 25 & 65 &  70 & 189 & 181 & 180 & 176 & 23.5\\\\\n",
       "\\end{tabular}\n"
      ],
      "text/markdown": [
       "\n",
       "A tibble: 6 × 10\n",
       "\n",
       "| Breed &lt;chr&gt; | height_low_inches &lt;dbl&gt; | height_high_inches &lt;dbl&gt; | weight_low_lbs &lt;dbl&gt; | weight_high_lbs &lt;dbl&gt; | rank_2016 &lt;dbl&gt; | rank_2015 &lt;dbl&gt; | rank_2014 &lt;dbl&gt; | rank_2013 &lt;dbl&gt; | avg_height &lt;dbl&gt; |\n",
       "|---|---|---|---|---|---|---|---|---|---|\n",
       "| Affenpinscher     |  9 | 12 |  8 |  12 | 149 | 136 | 144 | 143 | 10.5 |\n",
       "| Afghan Hound      | 25 | 27 | 50 |  60 | 113 | 100 |  98 |  95 | 26.0 |\n",
       "| Airdale Terrier   | 22 | 24 | 45 |  45 |  55 |  53 |  57 |  56 | 23.0 |\n",
       "| Akita             | 26 | 28 | 80 | 120 |  46 |  46 |  46 |  45 | 27.0 |\n",
       "| American Eskimo   |  9 | 19 | 25 |  30 | 122 | 118 | 120 | 110 | 14.0 |\n",
       "| American Foxhound | 22 | 25 | 65 |  70 | 189 | 181 | 180 | 176 | 23.5 |\n",
       "\n"
      ],
      "text/plain": [
       "  Breed             height_low_inches height_high_inches weight_low_lbs\n",
       "1 Affenpinscher      9                12                  8            \n",
       "2 Afghan Hound      25                27                 50            \n",
       "3 Airdale Terrier   22                24                 45            \n",
       "4 Akita             26                28                 80            \n",
       "5 American Eskimo    9                19                 25            \n",
       "6 American Foxhound 22                25                 65            \n",
       "  weight_high_lbs rank_2016 rank_2015 rank_2014 rank_2013 avg_height\n",
       "1  12             149       136       144       143       10.5      \n",
       "2  60             113       100        98        95       26.0      \n",
       "3  45              55        53        57        56       23.0      \n",
       "4 120              46        46        46        45       27.0      \n",
       "5  30             122       118       120       110       14.0      \n",
       "6  70             189       181       180       176       23.5      "
      ]
     },
     "metadata": {},
     "output_type": "display_data"
    }
   ],
   "source": [
    "dogs <- dogs %>% mutate(avg_height = (height_low_inches + height_high_inches)/2)\n",
    "\n",
    "# inspect the new data frame\n",
    "\n",
    "head(dogs)"
   ]
  },
  {
   "cell_type": "markdown",
   "id": "dbd862ff",
   "metadata": {},
   "source": [
    "### Adding Multiple Columns"
   ]
  },
  {
   "cell_type": "markdown",
   "id": "0fe0effe",
   "metadata": {},
   "source": [
    "Add two new columns `avg_weight` and `rank_change_13_to_16` that shows the change in rank from 2013 to 2016"
   ]
  },
  {
   "cell_type": "code",
   "execution_count": 38,
   "id": "a4239cbe",
   "metadata": {},
   "outputs": [
    {
     "data": {
      "text/html": [
       "<table class=\"dataframe\">\n",
       "<caption>A tibble: 6 × 12</caption>\n",
       "<thead>\n",
       "\t<tr><th scope=col>Breed</th><th scope=col>height_low_inches</th><th scope=col>height_high_inches</th><th scope=col>weight_low_lbs</th><th scope=col>weight_high_lbs</th><th scope=col>rank_2016</th><th scope=col>rank_2015</th><th scope=col>rank_2014</th><th scope=col>rank_2013</th><th scope=col>avg_height</th><th scope=col>avg_weight</th><th scope=col>rank_change_13_to_16</th></tr>\n",
       "\t<tr><th scope=col>&lt;chr&gt;</th><th scope=col>&lt;dbl&gt;</th><th scope=col>&lt;dbl&gt;</th><th scope=col>&lt;dbl&gt;</th><th scope=col>&lt;dbl&gt;</th><th scope=col>&lt;dbl&gt;</th><th scope=col>&lt;dbl&gt;</th><th scope=col>&lt;dbl&gt;</th><th scope=col>&lt;dbl&gt;</th><th scope=col>&lt;dbl&gt;</th><th scope=col>&lt;dbl&gt;</th><th scope=col>&lt;dbl&gt;</th></tr>\n",
       "</thead>\n",
       "<tbody>\n",
       "\t<tr><td>Affenpinscher    </td><td> 9</td><td>12</td><td> 8</td><td> 12</td><td>149</td><td>136</td><td>144</td><td>143</td><td>10.5</td><td> 10.0</td><td> 6</td></tr>\n",
       "\t<tr><td>Afghan Hound     </td><td>25</td><td>27</td><td>50</td><td> 60</td><td>113</td><td>100</td><td> 98</td><td> 95</td><td>26.0</td><td> 55.0</td><td>18</td></tr>\n",
       "\t<tr><td>Airdale Terrier  </td><td>22</td><td>24</td><td>45</td><td> 45</td><td> 55</td><td> 53</td><td> 57</td><td> 56</td><td>23.0</td><td> 45.0</td><td>-1</td></tr>\n",
       "\t<tr><td>Akita            </td><td>26</td><td>28</td><td>80</td><td>120</td><td> 46</td><td> 46</td><td> 46</td><td> 45</td><td>27.0</td><td>100.0</td><td> 1</td></tr>\n",
       "\t<tr><td>American Eskimo  </td><td> 9</td><td>19</td><td>25</td><td> 30</td><td>122</td><td>118</td><td>120</td><td>110</td><td>14.0</td><td> 27.5</td><td>12</td></tr>\n",
       "\t<tr><td>American Foxhound</td><td>22</td><td>25</td><td>65</td><td> 70</td><td>189</td><td>181</td><td>180</td><td>176</td><td>23.5</td><td> 67.5</td><td>13</td></tr>\n",
       "</tbody>\n",
       "</table>\n"
      ],
      "text/latex": [
       "A tibble: 6 × 12\n",
       "\\begin{tabular}{llllllllllll}\n",
       " Breed & height\\_low\\_inches & height\\_high\\_inches & weight\\_low\\_lbs & weight\\_high\\_lbs & rank\\_2016 & rank\\_2015 & rank\\_2014 & rank\\_2013 & avg\\_height & avg\\_weight & rank\\_change\\_13\\_to\\_16\\\\\n",
       " <chr> & <dbl> & <dbl> & <dbl> & <dbl> & <dbl> & <dbl> & <dbl> & <dbl> & <dbl> & <dbl> & <dbl>\\\\\n",
       "\\hline\n",
       "\t Affenpinscher     &  9 & 12 &  8 &  12 & 149 & 136 & 144 & 143 & 10.5 &  10.0 &  6\\\\\n",
       "\t Afghan Hound      & 25 & 27 & 50 &  60 & 113 & 100 &  98 &  95 & 26.0 &  55.0 & 18\\\\\n",
       "\t Airdale Terrier   & 22 & 24 & 45 &  45 &  55 &  53 &  57 &  56 & 23.0 &  45.0 & -1\\\\\n",
       "\t Akita             & 26 & 28 & 80 & 120 &  46 &  46 &  46 &  45 & 27.0 & 100.0 &  1\\\\\n",
       "\t American Eskimo   &  9 & 19 & 25 &  30 & 122 & 118 & 120 & 110 & 14.0 &  27.5 & 12\\\\\n",
       "\t American Foxhound & 22 & 25 & 65 &  70 & 189 & 181 & 180 & 176 & 23.5 &  67.5 & 13\\\\\n",
       "\\end{tabular}\n"
      ],
      "text/markdown": [
       "\n",
       "A tibble: 6 × 12\n",
       "\n",
       "| Breed &lt;chr&gt; | height_low_inches &lt;dbl&gt; | height_high_inches &lt;dbl&gt; | weight_low_lbs &lt;dbl&gt; | weight_high_lbs &lt;dbl&gt; | rank_2016 &lt;dbl&gt; | rank_2015 &lt;dbl&gt; | rank_2014 &lt;dbl&gt; | rank_2013 &lt;dbl&gt; | avg_height &lt;dbl&gt; | avg_weight &lt;dbl&gt; | rank_change_13_to_16 &lt;dbl&gt; |\n",
       "|---|---|---|---|---|---|---|---|---|---|---|---|\n",
       "| Affenpinscher     |  9 | 12 |  8 |  12 | 149 | 136 | 144 | 143 | 10.5 |  10.0 |  6 |\n",
       "| Afghan Hound      | 25 | 27 | 50 |  60 | 113 | 100 |  98 |  95 | 26.0 |  55.0 | 18 |\n",
       "| Airdale Terrier   | 22 | 24 | 45 |  45 |  55 |  53 |  57 |  56 | 23.0 |  45.0 | -1 |\n",
       "| Akita             | 26 | 28 | 80 | 120 |  46 |  46 |  46 |  45 | 27.0 | 100.0 |  1 |\n",
       "| American Eskimo   |  9 | 19 | 25 |  30 | 122 | 118 | 120 | 110 | 14.0 |  27.5 | 12 |\n",
       "| American Foxhound | 22 | 25 | 65 |  70 | 189 | 181 | 180 | 176 | 23.5 |  67.5 | 13 |\n",
       "\n"
      ],
      "text/plain": [
       "  Breed             height_low_inches height_high_inches weight_low_lbs\n",
       "1 Affenpinscher      9                12                  8            \n",
       "2 Afghan Hound      25                27                 50            \n",
       "3 Airdale Terrier   22                24                 45            \n",
       "4 Akita             26                28                 80            \n",
       "5 American Eskimo    9                19                 25            \n",
       "6 American Foxhound 22                25                 65            \n",
       "  weight_high_lbs rank_2016 rank_2015 rank_2014 rank_2013 avg_height avg_weight\n",
       "1  12             149       136       144       143       10.5        10.0     \n",
       "2  60             113       100        98        95       26.0        55.0     \n",
       "3  45              55        53        57        56       23.0        45.0     \n",
       "4 120              46        46        46        45       27.0       100.0     \n",
       "5  30             122       118       120       110       14.0        27.5     \n",
       "6  70             189       181       180       176       23.5        67.5     \n",
       "  rank_change_13_to_16\n",
       "1  6                  \n",
       "2 18                  \n",
       "3 -1                  \n",
       "4  1                  \n",
       "5 12                  \n",
       "6 13                  "
      ]
     },
     "metadata": {},
     "output_type": "display_data"
    }
   ],
   "source": [
    "dogs <- dogs %>% mutate(avg_weight = (weight_low_lbs + weight_high_lbs)/2, \n",
    "                        rank_change_13_to_16 = rank_2016 - rank_2013)\n",
    "\n",
    "# inspect the new data frame\n",
    "head(dogs)"
   ]
  },
  {
   "cell_type": "markdown",
   "id": "bdb862a1",
   "metadata": {},
   "source": [
    "### Transmute Columns"
   ]
  },
  {
   "cell_type": "markdown",
   "id": "81612bc5",
   "metadata": {},
   "source": [
    "Dplyr's `transmute()` function will add new columns while dropping the existing columns that may no longer be useful for analysis."
   ]
  },
  {
   "cell_type": "code",
   "execution_count": 43,
   "id": "46ae1bbd",
   "metadata": {},
   "outputs": [
    {
     "name": "stderr",
     "output_type": "stream",
     "text": [
      "\n",
      "\u001b[36m──\u001b[39m \u001b[1m\u001b[1mColumn specification\u001b[1m\u001b[22m \u001b[36m────────────────────────────────────────────────────────\u001b[39m\n",
      "cols(\n",
      "  Breed = \u001b[31mcol_character()\u001b[39m,\n",
      "  height_low_inches = \u001b[32mcol_double()\u001b[39m,\n",
      "  height_high_inches = \u001b[32mcol_double()\u001b[39m,\n",
      "  weight_low_lbs = \u001b[32mcol_double()\u001b[39m,\n",
      "  weight_high_lbs = \u001b[32mcol_double()\u001b[39m,\n",
      "  `2016 Rank` = \u001b[32mcol_double()\u001b[39m,\n",
      "  `2015 Rank` = \u001b[32mcol_double()\u001b[39m,\n",
      "  `2014 Rank` = \u001b[32mcol_double()\u001b[39m,\n",
      "  `2013 Rank` = \u001b[32mcol_double()\u001b[39m\n",
      ")\n",
      "\n",
      "\n"
     ]
    },
    {
     "data": {
      "text/html": [
       "<style>\n",
       ".list-inline {list-style: none; margin:0; padding: 0}\n",
       ".list-inline>li {display: inline-block}\n",
       ".list-inline>li:not(:last-child)::after {content: \"\\00b7\"; padding: 0 .5ex}\n",
       "</style>\n",
       "<ol class=list-inline><li>'Breed'</li><li>'height_low_inches'</li><li>'height_high_inches'</li><li>'weight_low_lbs'</li><li>'weight_high_lbs'</li><li>'rank_2016'</li><li>'rank_2015'</li><li>'rank_2014'</li><li>'rank_2013'</li></ol>\n"
      ],
      "text/latex": [
       "\\begin{enumerate*}\n",
       "\\item 'Breed'\n",
       "\\item 'height\\_low\\_inches'\n",
       "\\item 'height\\_high\\_inches'\n",
       "\\item 'weight\\_low\\_lbs'\n",
       "\\item 'weight\\_high\\_lbs'\n",
       "\\item 'rank\\_2016'\n",
       "\\item 'rank\\_2015'\n",
       "\\item 'rank\\_2014'\n",
       "\\item 'rank\\_2013'\n",
       "\\end{enumerate*}\n"
      ],
      "text/markdown": [
       "1. 'Breed'\n",
       "2. 'height_low_inches'\n",
       "3. 'height_high_inches'\n",
       "4. 'weight_low_lbs'\n",
       "5. 'weight_high_lbs'\n",
       "6. 'rank_2016'\n",
       "7. 'rank_2015'\n",
       "8. 'rank_2014'\n",
       "9. 'rank_2013'\n",
       "\n",
       "\n"
      ],
      "text/plain": [
       "[1] \"Breed\"              \"height_low_inches\"  \"height_high_inches\"\n",
       "[4] \"weight_low_lbs\"     \"weight_high_lbs\"    \"rank_2016\"         \n",
       "[7] \"rank_2015\"          \"rank_2014\"          \"rank_2013\"         "
      ]
     },
     "metadata": {},
     "output_type": "display_data"
    }
   ],
   "source": [
    "dogs <- read_csv('/users/bm/downloads/csv_files/dogs.csv')\n",
    "\n",
    "# rename columns\n",
    "\n",
    "dogs <- dogs %>% rename(rank_2016 = '2016 Rank',\n",
    "                        rank_2015 = '2015 Rank', \n",
    "                        rank_2014 = '2014 Rank', \n",
    "                        rank_2013 = '2013 Rank')\n",
    "\n",
    "# list column names\n",
    "\n",
    "colnames(dogs)"
   ]
  },
  {
   "cell_type": "markdown",
   "id": "7ede44a6",
   "metadata": {},
   "source": [
    "Add the columns `avg_height`, `avg_weight`, and `rank_change_13_to_16` to dogs while dropping all existing columns except `Breed`."
   ]
  },
  {
   "cell_type": "code",
   "execution_count": 44,
   "id": "6101e87c",
   "metadata": {
    "scrolled": true
   },
   "outputs": [],
   "source": [
    "dogs <- dogs %>% transmute(Breed = Breed, avg_height = (height_low_inches + height_high_inches)/2, avg_weight = (weight_low_lbs + weight_high_lbs)/2, rank_change_13_to_16 = rank_2016 - rank_2013)"
   ]
  },
  {
   "cell_type": "code",
   "execution_count": 45,
   "id": "851d5ee2",
   "metadata": {
    "scrolled": true
   },
   "outputs": [
    {
     "data": {
      "text/html": [
       "<table class=\"dataframe\">\n",
       "<caption>A tibble: 6 × 4</caption>\n",
       "<thead>\n",
       "\t<tr><th scope=col>Breed</th><th scope=col>avg_height</th><th scope=col>avg_weight</th><th scope=col>rank_change_13_to_16</th></tr>\n",
       "\t<tr><th scope=col>&lt;chr&gt;</th><th scope=col>&lt;dbl&gt;</th><th scope=col>&lt;dbl&gt;</th><th scope=col>&lt;dbl&gt;</th></tr>\n",
       "</thead>\n",
       "<tbody>\n",
       "\t<tr><td>Affenpinscher    </td><td>10.5</td><td> 10.0</td><td> 6</td></tr>\n",
       "\t<tr><td>Afghan Hound     </td><td>26.0</td><td> 55.0</td><td>18</td></tr>\n",
       "\t<tr><td>Airdale Terrier  </td><td>23.0</td><td> 45.0</td><td>-1</td></tr>\n",
       "\t<tr><td>Akita            </td><td>27.0</td><td>100.0</td><td> 1</td></tr>\n",
       "\t<tr><td>American Eskimo  </td><td>14.0</td><td> 27.5</td><td>12</td></tr>\n",
       "\t<tr><td>American Foxhound</td><td>23.5</td><td> 67.5</td><td>13</td></tr>\n",
       "</tbody>\n",
       "</table>\n"
      ],
      "text/latex": [
       "A tibble: 6 × 4\n",
       "\\begin{tabular}{llll}\n",
       " Breed & avg\\_height & avg\\_weight & rank\\_change\\_13\\_to\\_16\\\\\n",
       " <chr> & <dbl> & <dbl> & <dbl>\\\\\n",
       "\\hline\n",
       "\t Affenpinscher     & 10.5 &  10.0 &  6\\\\\n",
       "\t Afghan Hound      & 26.0 &  55.0 & 18\\\\\n",
       "\t Airdale Terrier   & 23.0 &  45.0 & -1\\\\\n",
       "\t Akita             & 27.0 & 100.0 &  1\\\\\n",
       "\t American Eskimo   & 14.0 &  27.5 & 12\\\\\n",
       "\t American Foxhound & 23.5 &  67.5 & 13\\\\\n",
       "\\end{tabular}\n"
      ],
      "text/markdown": [
       "\n",
       "A tibble: 6 × 4\n",
       "\n",
       "| Breed &lt;chr&gt; | avg_height &lt;dbl&gt; | avg_weight &lt;dbl&gt; | rank_change_13_to_16 &lt;dbl&gt; |\n",
       "|---|---|---|---|\n",
       "| Affenpinscher     | 10.5 |  10.0 |  6 |\n",
       "| Afghan Hound      | 26.0 |  55.0 | 18 |\n",
       "| Airdale Terrier   | 23.0 |  45.0 | -1 |\n",
       "| Akita             | 27.0 | 100.0 |  1 |\n",
       "| American Eskimo   | 14.0 |  27.5 | 12 |\n",
       "| American Foxhound | 23.5 |  67.5 | 13 |\n",
       "\n"
      ],
      "text/plain": [
       "  Breed             avg_height avg_weight rank_change_13_to_16\n",
       "1 Affenpinscher     10.5        10.0       6                  \n",
       "2 Afghan Hound      26.0        55.0      18                  \n",
       "3 Airdale Terrier   23.0        45.0      -1                  \n",
       "4 Akita             27.0       100.0       1                  \n",
       "5 American Eskimo   14.0        27.5      12                  \n",
       "6 American Foxhound 23.5        67.5      13                  "
      ]
     },
     "metadata": {},
     "output_type": "display_data"
    }
   ],
   "source": [
    "head(dogs)"
   ]
  },
  {
   "cell_type": "markdown",
   "id": "2a6e8941",
   "metadata": {},
   "source": [
    "### Rename Columns"
   ]
  },
  {
   "cell_type": "markdown",
   "id": "57a13a04",
   "metadata": {},
   "source": [
    "Dplyr's `rename()` function allows you to easily update the column names of a data frame. Syntax:\n",
    "```r\n",
    "rename(new_column_name = old_column_name)\n",
    "```"
   ]
  },
  {
   "cell_type": "code",
   "execution_count": 46,
   "id": "e7d28927",
   "metadata": {},
   "outputs": [
    {
     "name": "stdout",
     "output_type": "stream",
     "text": [
      "[1] \"Breed\"                \"avg_height\"           \"avg_weight\"          \n",
      "[4] \"rank_change_13_to_16\"\n"
     ]
    }
   ],
   "source": [
    "# save the column names of 'dogs' to 'original_col_names' and print it\n",
    "\n",
    "original_col_names <- colnames(dogs)\n",
    "\n",
    "print(original_col_names)"
   ]
  },
  {
   "cell_type": "markdown",
   "id": "e8060d15",
   "metadata": {},
   "source": [
    "Update the name of `avg_height` to `avg_height_inches`, `avg_weight` to `avg_weight_lbs`, and `rank_change_13_to_16` to `popularity_change_13_to_16.` Save the updated data frame to `dogs.`"
   ]
  },
  {
   "cell_type": "code",
   "execution_count": 47,
   "id": "57fcf6d9",
   "metadata": {},
   "outputs": [],
   "source": [
    "dogs <- dogs %>% rename(avg_height_inches = avg_height,\n",
    "                        avg_weight_lbs = avg_weight,\n",
    "                        popularity_change_13_to_16 = rank_change_13_to_16)"
   ]
  },
  {
   "cell_type": "markdown",
   "id": "a05cc3c7",
   "metadata": {},
   "source": [
    "Save the new column names of `dogs` to `new_col_names` and print it."
   ]
  },
  {
   "cell_type": "code",
   "execution_count": 48,
   "id": "c74f164a",
   "metadata": {},
   "outputs": [
    {
     "name": "stdout",
     "output_type": "stream",
     "text": [
      "[1] \"Breed\"                      \"avg_height_inches\"         \n",
      "[3] \"avg_weight_lbs\"             \"popularity_change_13_to_16\"\n"
     ]
    }
   ],
   "source": [
    "new_col_names <- colnames(dogs)\n",
    "\n",
    "print(new_col_names)"
   ]
  },
  {
   "cell_type": "code",
   "execution_count": null,
   "id": "8d060df5",
   "metadata": {},
   "outputs": [],
   "source": []
  }
 ],
 "metadata": {
  "kernelspec": {
   "display_name": "R",
   "language": "R",
   "name": "ir"
  },
  "language_info": {
   "codemirror_mode": "r",
   "file_extension": ".r",
   "mimetype": "text/x-r-source",
   "name": "R",
   "pygments_lexer": "r",
   "version": "4.1.0"
  },
  "toc": {
   "base_numbering": 1,
   "nav_menu": {},
   "number_sections": false,
   "sideBar": false,
   "skip_h1_title": true,
   "title_cell": "Contents",
   "title_sidebar": "Contents",
   "toc_cell": true,
   "toc_position": {},
   "toc_section_display": true,
   "toc_window_display": false
  }
 },
 "nbformat": 4,
 "nbformat_minor": 5
}
