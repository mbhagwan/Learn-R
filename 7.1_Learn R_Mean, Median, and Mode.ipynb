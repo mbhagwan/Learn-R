{
 "cells": [
  {
   "cell_type": "markdown",
   "id": "22f8ad9a",
   "metadata": {},
   "source": [
    "# Learn R: Mean, Median, and Mode"
   ]
  },
  {
   "cell_type": "markdown",
   "id": "c37a45fc",
   "metadata": {
    "toc": true
   },
   "source": [
    "<h1>Contents<span class=\"tocSkip\"></span></h1>\n",
    "<div class=\"toc\"><ul class=\"toc-item\"><li><span><a href=\"#Mean\" data-toc-modified-id=\"Mean-1\">Mean</a></span></li><li><span><a href=\"#Median\" data-toc-modified-id=\"Median-2\">Median</a></span></li><li><span><a href=\"#Mode\" data-toc-modified-id=\"Mode-3\">Mode</a></span></li></ul></div>"
   ]
  },
  {
   "cell_type": "markdown",
   "id": "d805893e",
   "metadata": {},
   "source": [
    "## Mean"
   ]
  },
  {
   "cell_type": "markdown",
   "id": "d1bef3ab",
   "metadata": {},
   "source": [
    "The `mean()` function is used to calculate the average of a dataset."
   ]
  },
  {
   "cell_type": "markdown",
   "id": "56077e4b",
   "metadata": {},
   "source": [
    "**Example:**"
   ]
  },
  {
   "cell_type": "code",
   "execution_count": 2,
   "id": "1606e352",
   "metadata": {},
   "outputs": [
    {
     "name": "stdout",
     "output_type": "stream",
     "text": [
      "[1] 20\n"
     ]
    }
   ],
   "source": [
    "example_data <- c(24, 16, 30, 10, 12, 28, 38, 2, 4, 36)\n",
    "\n",
    "example_average <- mean(example_data)\n",
    "print(example_average)"
   ]
  },
  {
   "cell_type": "markdown",
   "id": "55d55957",
   "metadata": {},
   "source": [
    "## Median"
   ]
  },
  {
   "cell_type": "markdown",
   "id": "c85998a8",
   "metadata": {},
   "source": [
    "The median of a dataset is:\n",
    "\n",
    "<i>The value that, assuming the dataset is ordered from smallest to largest, falls in the middle. If there are an even number of values in a dataset, you either report both of the middle two values or their average.</i>"
   ]
  },
  {
   "cell_type": "markdown",
   "id": "d8552e5a",
   "metadata": {},
   "source": [
    "**Example:**\n",
    "\n",
    "Use `median()` to calculate the median of the following dataset."
   ]
  },
  {
   "cell_type": "code",
   "execution_count": 6,
   "id": "a5bb6a66",
   "metadata": {},
   "outputs": [
    {
     "name": "stdout",
     "output_type": "stream",
     "text": [
      "[1] 24\n"
     ]
    }
   ],
   "source": [
    "example_data <- c(24, 16, 30, 10, 12, 28, 38, 2, 4, 36, 42)\n",
    "\n",
    "example_median <- median(example_data)\n",
    "print(example_median)"
   ]
  },
  {
   "cell_type": "markdown",
   "id": "1c74e061",
   "metadata": {},
   "source": [
    "## Mode"
   ]
  },
  {
   "cell_type": "markdown",
   "id": "539a8c2a",
   "metadata": {},
   "source": [
    "The mode of a dataset is:\n",
    "\n",
    "<i>The most frequently occurring observation in the dataset. A dataset can have multiple modes if there is more than one value with the same maximum frequency.</i>"
   ]
  },
  {
   "cell_type": "markdown",
   "id": "1a2b19aa",
   "metadata": {},
   "source": [
    "**Example:**\n",
    "\n",
    "The R package `DescTools` includes a `Mode()` function. Use `Mode()` to calculate the mode of the following dataset."
   ]
  },
  {
   "cell_type": "code",
   "execution_count": 10,
   "id": "10e0e323",
   "metadata": {},
   "outputs": [
    {
     "name": "stdout",
     "output_type": "stream",
     "text": [
      "[1] 12\n",
      "attr(,\"freq\")\n",
      "[1] 3\n"
     ]
    }
   ],
   "source": [
    "library(DescTools)\n",
    "\n",
    "example_data <- c(24, 16, 12, 10, 12, 28, 38, 12, 28, 24)\n",
    "example_mode <- Mode(example_data)\n",
    "print(example_mode)"
   ]
  },
  {
   "cell_type": "code",
   "execution_count": null,
   "id": "74890829",
   "metadata": {},
   "outputs": [],
   "source": []
  }
 ],
 "metadata": {
  "kernelspec": {
   "display_name": "R",
   "language": "R",
   "name": "ir"
  },
  "language_info": {
   "codemirror_mode": "r",
   "file_extension": ".r",
   "mimetype": "text/x-r-source",
   "name": "R",
   "pygments_lexer": "r",
   "version": "4.1.0"
  },
  "toc": {
   "base_numbering": 1,
   "nav_menu": {},
   "number_sections": false,
   "sideBar": true,
   "skip_h1_title": true,
   "title_cell": "Contents",
   "title_sidebar": "Contents",
   "toc_cell": true,
   "toc_position": {},
   "toc_section_display": false,
   "toc_window_display": false
  }
 },
 "nbformat": 4,
 "nbformat_minor": 5
}
