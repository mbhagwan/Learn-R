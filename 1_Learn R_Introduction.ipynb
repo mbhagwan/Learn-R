{
 "cells": [
  {
   "cell_type": "markdown",
   "id": "5268dfeb",
   "metadata": {},
   "source": [
    "# Introduction to R Syntax"
   ]
  },
  {
   "cell_type": "markdown",
   "id": "f6856580",
   "metadata": {
    "toc": true
   },
   "source": [
    "<h1>Table of Contents<span class=\"tocSkip\"></span></h1>\n",
    "<div class=\"toc\"><ul class=\"toc-item\"><li><span><a href=\"#Introduction\" data-toc-modified-id=\"Introduction-1\">Introduction</a></span></li><li><span><a href=\"#Vectors\" data-toc-modified-id=\"Vectors-2\">Vectors</a></span></li><li><span><a href=\"#Conditionals\" data-toc-modified-id=\"Conditionals-3\">Conditionals</a></span></li><li><span><a href=\"#Comparison-Operators\" data-toc-modified-id=\"Comparison-Operators-4\">Comparison Operators</a></span></li><li><span><a href=\"#Logical-Operators\" data-toc-modified-id=\"Logical-Operators-5\">Logical Operators</a></span></li><li><span><a href=\"#Calling-a-Function\" data-toc-modified-id=\"Calling-a-Function-6\">Calling a Function</a></span></li><li><span><a href=\"#Importing-Packages\" data-toc-modified-id=\"Importing-Packages-7\">Importing Packages</a></span></li></ul></div>"
   ]
  },
  {
   "cell_type": "markdown",
   "id": "b5c0f53a",
   "metadata": {},
   "source": [
    "### Introduction"
   ]
  },
  {
   "cell_type": "markdown",
   "id": "4a8797a0",
   "metadata": {},
   "source": [
    "R is more of a tool to understand data than a programming language. R is powerful for conducting statistics and other specialized data analysis. A community of specailized packages has been built around the language."
   ]
  },
  {
   "cell_type": "markdown",
   "id": "b61685ea",
   "metadata": {},
   "source": [
    "### Vectors"
   ]
  },
  {
   "cell_type": "markdown",
   "id": "126780cb",
   "metadata": {},
   "source": [
    "Vectors are a list-like structure that contain items of the same data type. The combine `c()` function is used to create a vector."
   ]
  },
  {
   "cell_type": "code",
   "execution_count": 1,
   "id": "6795b4d2",
   "metadata": {},
   "outputs": [
    {
     "name": "stdout",
     "output_type": "stream",
     "text": [
      "[1] \"March\" \"April\" \"May\"   \"June\" \n"
     ]
    }
   ],
   "source": [
    "spring_months <- c('March', 'April', 'May', 'June')\n",
    "print(spring_months)"
   ]
  },
  {
   "cell_type": "code",
   "execution_count": 2,
   "id": "ce3db303",
   "metadata": {},
   "outputs": [
    {
     "data": {
      "text/html": [
       "'character'"
      ],
      "text/latex": [
       "'character'"
      ],
      "text/markdown": [
       "'character'"
      ],
      "text/plain": [
       "[1] \"character\""
      ]
     },
     "metadata": {},
     "output_type": "display_data"
    }
   ],
   "source": [
    "# to check the type of elements in a vector\n",
    "\n",
    "typeof(spring_months)"
   ]
  },
  {
   "cell_type": "code",
   "execution_count": 3,
   "id": "73c2e662",
   "metadata": {},
   "outputs": [
    {
     "data": {
      "text/html": [
       "4"
      ],
      "text/latex": [
       "4"
      ],
      "text/markdown": [
       "4"
      ],
      "text/plain": [
       "[1] 4"
      ]
     },
     "metadata": {},
     "output_type": "display_data"
    }
   ],
   "source": [
    "# to check the length of a vector\n",
    "\n",
    "length(spring_months)"
   ]
  },
  {
   "cell_type": "code",
   "execution_count": 4,
   "id": "c1411f65",
   "metadata": {},
   "outputs": [
    {
     "data": {
      "text/html": [
       "'April'"
      ],
      "text/latex": [
       "'April'"
      ],
      "text/markdown": [
       "'April'"
      ],
      "text/plain": [
       "[1] \"April\""
      ]
     },
     "metadata": {},
     "output_type": "display_data"
    }
   ],
   "source": [
    "# to access individual elements in the vector. In R, elements start\n",
    "# at position one, not zero\n",
    "\n",
    "spring_months[2]"
   ]
  },
  {
   "cell_type": "markdown",
   "id": "956a183b",
   "metadata": {},
   "source": [
    "### Conditionals"
   ]
  },
  {
   "cell_type": "markdown",
   "id": "112f2322",
   "metadata": {},
   "source": [
    "We can perform a task based on a condition using an if statement:"
   ]
  },
  {
   "cell_type": "code",
   "execution_count": 5,
   "id": "b26f5837",
   "metadata": {},
   "outputs": [
    {
     "name": "stdout",
     "output_type": "stream",
     "text": [
      "[1] \"This message will print\"\n"
     ]
    }
   ],
   "source": [
    "if (TRUE) {\n",
    "    print('This message will print')\n",
    "}"
   ]
  },
  {
   "cell_type": "markdown",
   "id": "d50c975c",
   "metadata": {},
   "source": [
    "An else statement paired with an if statement is referred to as an if...else statement:"
   ]
  },
  {
   "cell_type": "code",
   "execution_count": 6,
   "id": "b005e402",
   "metadata": {},
   "outputs": [
    {
     "name": "stdout",
     "output_type": "stream",
     "text": [
      "[1] \"Go to sleep!\"\n"
     ]
    }
   ],
   "source": [
    "if (TRUE) {\n",
    "    print('Go to sleep!')\n",
    "} else {\n",
    "    print('Wake up!')\n",
    "}"
   ]
  },
  {
   "cell_type": "markdown",
   "id": "677b6b1c",
   "metadata": {},
   "source": [
    "### Comparison Operators"
   ]
  },
  {
   "cell_type": "markdown",
   "id": "2b22a0e8",
   "metadata": {},
   "source": [
    "Comparison operators | Syntax\n",
    ":--------------------|:------\n",
    "Less than: | <\n",
    "Greater than: | >\n",
    "Less than or equal to: | <=\n",
    "Greater than or equal to: | >=\n",
    "Is equal to: | ==\n",
    "Is NOT equal to: | !="
   ]
  },
  {
   "cell_type": "markdown",
   "id": "d4c62720",
   "metadata": {},
   "source": [
    "### Logical Operators"
   ]
  },
  {
   "cell_type": "markdown",
   "id": "53cc8ca0",
   "metadata": {},
   "source": [
    "Logical Operator | Symbol\n",
    ":----------------|:------\n",
    "AND | &\n",
    "OR | \\|\n",
    "NOT | !"
   ]
  },
  {
   "cell_type": "markdown",
   "id": "211f00f7",
   "metadata": {},
   "source": [
    "### Calling a Function"
   ]
  },
  {
   "cell_type": "markdown",
   "id": "378a7970",
   "metadata": {},
   "source": [
    "syntax:\n",
    "```r\n",
    "functionName(value)\n",
    "```"
   ]
  },
  {
   "cell_type": "markdown",
   "id": "fab1ec80",
   "metadata": {},
   "source": [
    "**Examples:**"
   ]
  },
  {
   "cell_type": "code",
   "execution_count": 7,
   "id": "d492d78a",
   "metadata": {},
   "outputs": [
    {
     "data": {
      "text/html": [
       "<style>\n",
       ".list-inline {list-style: none; margin:0; padding: 0}\n",
       ".list-inline>li {display: inline-block}\n",
       ".list-inline>li:not(:last-child)::after {content: \"\\00b7\"; padding: 0 .5ex}\n",
       "</style>\n",
       "<ol class=list-inline><li>1</li><li>2</li><li>4</li><li>5</li><li>10</li></ol>\n"
      ],
      "text/latex": [
       "\\begin{enumerate*}\n",
       "\\item 1\n",
       "\\item 2\n",
       "\\item 4\n",
       "\\item 5\n",
       "\\item 10\n",
       "\\end{enumerate*}\n"
      ],
      "text/markdown": [
       "1. 1\n",
       "2. 2\n",
       "3. 4\n",
       "4. 5\n",
       "5. 10\n",
       "\n",
       "\n"
      ],
      "text/plain": [
       "[1]  1  2  4  5 10"
      ]
     },
     "metadata": {},
     "output_type": "display_data"
    }
   ],
   "source": [
    "sort(c(2,4,10,5,1))"
   ]
  },
  {
   "cell_type": "code",
   "execution_count": 8,
   "id": "4a8bef35",
   "metadata": {},
   "outputs": [
    {
     "data": {
      "text/html": [
       "5"
      ],
      "text/latex": [
       "5"
      ],
      "text/markdown": [
       "5"
      ],
      "text/plain": [
       "[1] 5"
      ]
     },
     "metadata": {},
     "output_type": "display_data"
    }
   ],
   "source": [
    "length(c(2,4,10,5,1))"
   ]
  },
  {
   "cell_type": "code",
   "execution_count": 9,
   "id": "11bc0eaa",
   "metadata": {},
   "outputs": [
    {
     "data": {
      "text/html": [
       "30"
      ],
      "text/latex": [
       "30"
      ],
      "text/markdown": [
       "30"
      ],
      "text/plain": [
       "[1] 30"
      ]
     },
     "metadata": {},
     "output_type": "display_data"
    }
   ],
   "source": [
    "sum(5,15,10)"
   ]
  },
  {
   "cell_type": "code",
   "execution_count": 10,
   "id": "4a2eb62c",
   "metadata": {},
   "outputs": [
    {
     "name": "stdout",
     "output_type": "stream",
     "text": [
      "[1] 120  22  31  15\n"
     ]
    }
   ],
   "source": [
    "# print only the unique values\n",
    "\n",
    "data <- c(120,22,22,31,15,120)\n",
    "unique_vals <- unique(data)\n",
    "print(unique_vals)"
   ]
  },
  {
   "cell_type": "code",
   "execution_count": 11,
   "id": "d44a3680",
   "metadata": {},
   "outputs": [
    {
     "name": "stdout",
     "output_type": "stream",
     "text": [
      "[1] 7\n"
     ]
    }
   ],
   "source": [
    "# square root of a number\n",
    "\n",
    "solution <- sqrt(49)\n",
    "print(solution)"
   ]
  },
  {
   "cell_type": "code",
   "execution_count": 12,
   "id": "852cd045",
   "metadata": {},
   "outputs": [
    {
     "name": "stdout",
     "output_type": "stream",
     "text": [
      "[1] 3\n",
      "[1] 4\n"
     ]
    }
   ],
   "source": [
    "# round down or round up to the next integer\n",
    "\n",
    "round_down <- floor(3.14)\n",
    "round_up <- ceiling(3.14)\n",
    "print(round_down)\n",
    "print(round_up)"
   ]
  },
  {
   "cell_type": "markdown",
   "id": "7a581d5f",
   "metadata": {},
   "source": [
    "### Importing Packages"
   ]
  },
  {
   "cell_type": "markdown",
   "id": "d175d812",
   "metadata": {},
   "source": [
    "**Base R** refers to the R language by itself and all that it can do without importing any packages. "
   ]
  },
  {
   "cell_type": "markdown",
   "id": "3309d4c9",
   "metadata": {},
   "source": [
    "Run this command only the first time you want to install a package:\n",
    "```\n",
    "install.packages('package-name')\n",
    "```\n",
    "To import a package:\n",
    "```\n",
    "library(package-name)\n",
    "```"
   ]
  },
  {
   "cell_type": "markdown",
   "id": "a1af5951",
   "metadata": {},
   "source": [
    "Documentation for different R packages is available at [CRAN](https://cran.r-project.org/) (Comprehensive R Archive Network)."
   ]
  },
  {
   "cell_type": "code",
   "execution_count": null,
   "id": "026af603",
   "metadata": {},
   "outputs": [],
   "source": []
  }
 ],
 "metadata": {
  "kernelspec": {
   "display_name": "R",
   "language": "R",
   "name": "ir"
  },
  "language_info": {
   "codemirror_mode": "r",
   "file_extension": ".r",
   "mimetype": "text/x-r-source",
   "name": "R",
   "pygments_lexer": "r",
   "version": "4.1.0"
  },
  "toc": {
   "base_numbering": 1,
   "nav_menu": {},
   "number_sections": false,
   "sideBar": false,
   "skip_h1_title": true,
   "title_cell": "Table of Contents",
   "title_sidebar": "Contents",
   "toc_cell": true,
   "toc_position": {},
   "toc_section_display": false,
   "toc_window_display": false
  }
 },
 "nbformat": 4,
 "nbformat_minor": 5
}
