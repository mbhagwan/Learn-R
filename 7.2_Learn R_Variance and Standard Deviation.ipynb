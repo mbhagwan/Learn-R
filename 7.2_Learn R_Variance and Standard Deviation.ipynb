{
 "cells": [
  {
   "cell_type": "markdown",
   "id": "446b617c",
   "metadata": {},
   "source": [
    "# Variance and Standard Deviation"
   ]
  },
  {
   "cell_type": "markdown",
   "id": "80fca693",
   "metadata": {
    "toc": true
   },
   "source": [
    "<h1>Contents<span class=\"tocSkip\"></span></h1>\n",
    "<div class=\"toc\"><ul class=\"toc-item\"><li><span><a href=\"#Variance\" data-toc-modified-id=\"Variance-1\">Variance</a></span></li><li><span><a href=\"#Standard-Deviation\" data-toc-modified-id=\"Standard-Deviation-2\">Standard Deviation</a></span></li></ul></div>"
   ]
  },
  {
   "cell_type": "markdown",
   "id": "23405bf5",
   "metadata": {},
   "source": [
    "## Variance"
   ]
  },
  {
   "cell_type": "markdown",
   "id": "9c73f7b0",
   "metadata": {},
   "source": [
    "Variance is a descriptive statistic that describes how spread out the points in a data set are."
   ]
  },
  {
   "cell_type": "markdown",
   "id": "4af62752",
   "metadata": {},
   "source": [
    "The full equation for variance is:"
   ]
  },
  {
   "cell_type": "markdown",
   "id": "51cde19b",
   "metadata": {},
   "source": [
    "$$\\sigma^{2} = \\frac{\\sum_{i=1}^{n} \n",
    "  \\left(x_{i} - \\bar{x}\\right)^{2}}\n",
    "  {n}$$"
   ]
  },
  {
   "cell_type": "markdown",
   "id": "922805d8",
   "metadata": {},
   "source": [
    "* Start by taking each point in a dataset and find the difference between that point and the mean\n",
    "* Then square the differences to make them positive\n",
    "* Finally, sum the differences and divide by the total number of points in the dataset"
   ]
  },
  {
   "cell_type": "markdown",
   "id": "5ac75c1b",
   "metadata": {},
   "source": [
    "The `var()` function in R takes a list of numbers as a parameter and returns the variance of that dataset."
   ]
  },
  {
   "cell_type": "code",
   "execution_count": 4,
   "id": "48e851bc",
   "metadata": {},
   "outputs": [
    {
     "name": "stdout",
     "output_type": "stream",
     "text": [
      "[1] 423.5\n"
     ]
    }
   ],
   "source": [
    "dataset <- c(3, 5, -2, 49, 10)\n",
    "var <- var(dataset)\n",
    "print(var)"
   ]
  },
  {
   "cell_type": "markdown",
   "id": "cb26c04f",
   "metadata": {},
   "source": [
    "## Standard Deviation"
   ]
  },
  {
   "cell_type": "code",
   "execution_count": null,
   "id": "11fb6513",
   "metadata": {},
   "outputs": [],
   "source": [
    "Standard deviation is the square root of the variance."
   ]
  },
  {
   "cell_type": "markdown",
   "id": "b7a6612f",
   "metadata": {},
   "source": [
    "$\\sigma = \\sqrt{\\frac{\\sum\\limits_{i=1}^{n} \\left(x_{i} - \\bar{x}\\right)^{2}} {n}}$"
   ]
  },
  {
   "cell_type": "markdown",
   "id": "ab5744d4",
   "metadata": {},
   "source": [
    "The R function `sd()` takes a dataset as a parameter and returns the standard deviation of that dataset:"
   ]
  },
  {
   "cell_type": "code",
   "execution_count": 5,
   "id": "312945e7",
   "metadata": {},
   "outputs": [
    {
     "name": "stdout",
     "output_type": "stream",
     "text": [
      "[1] 13.49074\n"
     ]
    }
   ],
   "source": [
    "dataset <- c(4, 8, 15, 16, 23, 42)\n",
    "standard_deviation <- sd(dataset)\n",
    "print(standard_deviation)"
   ]
  },
  {
   "cell_type": "code",
   "execution_count": null,
   "id": "7e6ae546",
   "metadata": {},
   "outputs": [],
   "source": []
  }
 ],
 "metadata": {
  "kernelspec": {
   "display_name": "R",
   "language": "R",
   "name": "ir"
  },
  "language_info": {
   "codemirror_mode": "r",
   "file_extension": ".r",
   "mimetype": "text/x-r-source",
   "name": "R",
   "pygments_lexer": "r",
   "version": "4.1.0"
  },
  "toc": {
   "base_numbering": 1,
   "nav_menu": {},
   "number_sections": false,
   "sideBar": true,
   "skip_h1_title": true,
   "title_cell": "Contents",
   "title_sidebar": "Contents",
   "toc_cell": true,
   "toc_position": {},
   "toc_section_display": true,
   "toc_window_display": false
  }
 },
 "nbformat": 4,
 "nbformat_minor": 5
}
